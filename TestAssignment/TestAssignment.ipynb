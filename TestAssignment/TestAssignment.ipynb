{
 "cells": [
  {
   "cell_type": "code",
   "execution_count": 1,
   "metadata": {},
   "outputs": [],
   "source": [
    "import pandas as pd\n",
    "from datetime import datetime,timedelta\n",
    "import matplotlib\n",
    "from sklearn.linear_model import PoissonRegressor, GammaRegressor\n",
    "from sklearn.linear_model import TweedieRegressor\n",
    "import numpy as np\n",
    "import matplotlib.pyplot as plt\n",
    "%matplotlib inline"
   ]
  },
  {
   "cell_type": "code",
   "execution_count": 2,
   "metadata": {},
   "outputs": [],
   "source": [
    "import scipy.stats "
   ]
  },
  {
   "cell_type": "code",
   "execution_count": 3,
   "metadata": {},
   "outputs": [],
   "source": [
    "pd.set_option('precision', 10)"
   ]
  },
  {
   "cell_type": "code",
   "execution_count": 4,
   "metadata": {},
   "outputs": [],
   "source": [
    "pd.set_option('display.max_columns', 500)"
   ]
  },
  {
   "cell_type": "code",
   "execution_count": 5,
   "metadata": {},
   "outputs": [],
   "source": [
    "np.set_printoptions(suppress=True)"
   ]
  },
  {
   "cell_type": "markdown",
   "metadata": {},
   "source": [
    "# Objectives"
   ]
  },
  {
   "cell_type": "markdown",
   "metadata": {},
   "source": [
    "1) Create a weighted by cohort size retention curve where the x-axis = Days since install ; y-axis = weighted retention value\n",
    "\n",
    "2) Fit various statistical functions modelling the  weighted by cohort size retention curve. i.e. $f( D_{x} )=retention$ where $D_{x}$ is days since install and use $f( D_{x} )$ to calculate predicted DAU\n",
    "\n",
    "3) Plot actual vs predicted DAU"
   ]
  },
  {
   "cell_type": "code",
   "execution_count": 6,
   "metadata": {},
   "outputs": [],
   "source": [
    "Data = pd.read_csv('weborders_agg_2020_08_11.csv')"
   ]
  },
  {
   "cell_type": "code",
   "execution_count": 7,
   "metadata": {},
   "outputs": [
    {
     "data": {
      "text/html": [
       "<div>\n",
       "<style scoped>\n",
       "    .dataframe tbody tr th:only-of-type {\n",
       "        vertical-align: middle;\n",
       "    }\n",
       "\n",
       "    .dataframe tbody tr th {\n",
       "        vertical-align: top;\n",
       "    }\n",
       "\n",
       "    .dataframe thead th {\n",
       "        text-align: right;\n",
       "    }\n",
       "</style>\n",
       "<table border=\"1\" class=\"dataframe\">\n",
       "  <thead>\n",
       "    <tr style=\"text-align: right;\">\n",
       "      <th></th>\n",
       "      <th>DATE</th>\n",
       "      <th>DNU</th>\n",
       "      <th>Revenue</th>\n",
       "      <th>DAU</th>\n",
       "      <th>D1</th>\n",
       "      <th>D7</th>\n",
       "      <th>D14</th>\n",
       "      <th>D30</th>\n",
       "      <th>D60</th>\n",
       "      <th>D90</th>\n",
       "      <th>D180</th>\n",
       "      <th>D365</th>\n",
       "      <th>D540</th>\n",
       "      <th>D730</th>\n",
       "      <th>D1095</th>\n",
       "      <th>D1460</th>\n",
       "      <th>D1600</th>\n",
       "      <th>country</th>\n",
       "      <th>platform</th>\n",
       "    </tr>\n",
       "  </thead>\n",
       "  <tbody>\n",
       "    <tr>\n",
       "      <td>1464</td>\n",
       "      <td>2017-08-21</td>\n",
       "      <td>201</td>\n",
       "      <td>29008.6200000001</td>\n",
       "      <td>444</td>\n",
       "      <td>0.0000000000</td>\n",
       "      <td>NaN</td>\n",
       "      <td>NaN</td>\n",
       "      <td>NaN</td>\n",
       "      <td>NaN</td>\n",
       "      <td>NaN</td>\n",
       "      <td>NaN</td>\n",
       "      <td>NaN</td>\n",
       "      <td>NaN</td>\n",
       "      <td>NaN</td>\n",
       "      <td>NaN</td>\n",
       "      <td>NaN</td>\n",
       "      <td>NaN</td>\n",
       "      <td>Global</td>\n",
       "      <td>All</td>\n",
       "    </tr>\n",
       "    <tr>\n",
       "      <td>1465</td>\n",
       "      <td>2017-08-22</td>\n",
       "      <td>223</td>\n",
       "      <td>34650.6700000001</td>\n",
       "      <td>449</td>\n",
       "      <td>0.0089686099</td>\n",
       "      <td>NaN</td>\n",
       "      <td>NaN</td>\n",
       "      <td>NaN</td>\n",
       "      <td>NaN</td>\n",
       "      <td>NaN</td>\n",
       "      <td>NaN</td>\n",
       "      <td>NaN</td>\n",
       "      <td>NaN</td>\n",
       "      <td>NaN</td>\n",
       "      <td>NaN</td>\n",
       "      <td>NaN</td>\n",
       "      <td>NaN</td>\n",
       "      <td>Global</td>\n",
       "      <td>All</td>\n",
       "    </tr>\n",
       "    <tr>\n",
       "      <td>1466</td>\n",
       "      <td>2017-08-23</td>\n",
       "      <td>216</td>\n",
       "      <td>34647.2500000001</td>\n",
       "      <td>471</td>\n",
       "      <td>0.0046296296</td>\n",
       "      <td>NaN</td>\n",
       "      <td>NaN</td>\n",
       "      <td>NaN</td>\n",
       "      <td>NaN</td>\n",
       "      <td>NaN</td>\n",
       "      <td>NaN</td>\n",
       "      <td>NaN</td>\n",
       "      <td>NaN</td>\n",
       "      <td>NaN</td>\n",
       "      <td>NaN</td>\n",
       "      <td>NaN</td>\n",
       "      <td>NaN</td>\n",
       "      <td>Global</td>\n",
       "      <td>All</td>\n",
       "    </tr>\n",
       "    <tr>\n",
       "      <td>1467</td>\n",
       "      <td>2017-08-24</td>\n",
       "      <td>168</td>\n",
       "      <td>26943.5000000001</td>\n",
       "      <td>375</td>\n",
       "      <td>0.0000000000</td>\n",
       "      <td>NaN</td>\n",
       "      <td>NaN</td>\n",
       "      <td>NaN</td>\n",
       "      <td>NaN</td>\n",
       "      <td>NaN</td>\n",
       "      <td>NaN</td>\n",
       "      <td>NaN</td>\n",
       "      <td>NaN</td>\n",
       "      <td>NaN</td>\n",
       "      <td>NaN</td>\n",
       "      <td>NaN</td>\n",
       "      <td>NaN</td>\n",
       "      <td>Global</td>\n",
       "      <td>All</td>\n",
       "    </tr>\n",
       "    <tr>\n",
       "      <td>1468</td>\n",
       "      <td>2017-08-25</td>\n",
       "      <td>82</td>\n",
       "      <td>15670.3000000000</td>\n",
       "      <td>200</td>\n",
       "      <td>NaN</td>\n",
       "      <td>NaN</td>\n",
       "      <td>NaN</td>\n",
       "      <td>NaN</td>\n",
       "      <td>NaN</td>\n",
       "      <td>NaN</td>\n",
       "      <td>NaN</td>\n",
       "      <td>NaN</td>\n",
       "      <td>NaN</td>\n",
       "      <td>NaN</td>\n",
       "      <td>NaN</td>\n",
       "      <td>NaN</td>\n",
       "      <td>NaN</td>\n",
       "      <td>Global</td>\n",
       "      <td>All</td>\n",
       "    </tr>\n",
       "  </tbody>\n",
       "</table>\n",
       "</div>"
      ],
      "text/plain": [
       "            DATE  DNU           Revenue  DAU            D1  D7  D14  D30  D60  \\\n",
       "1464  2017-08-21  201  29008.6200000001  444  0.0000000000 NaN  NaN  NaN  NaN   \n",
       "1465  2017-08-22  223  34650.6700000001  449  0.0089686099 NaN  NaN  NaN  NaN   \n",
       "1466  2017-08-23  216  34647.2500000001  471  0.0046296296 NaN  NaN  NaN  NaN   \n",
       "1467  2017-08-24  168  26943.5000000001  375  0.0000000000 NaN  NaN  NaN  NaN   \n",
       "1468  2017-08-25   82  15670.3000000000  200           NaN NaN  NaN  NaN  NaN   \n",
       "\n",
       "      D90  D180  D365  D540  D730  D1095  D1460  D1600 country platform  \n",
       "1464  NaN   NaN   NaN   NaN   NaN    NaN    NaN    NaN  Global      All  \n",
       "1465  NaN   NaN   NaN   NaN   NaN    NaN    NaN    NaN  Global      All  \n",
       "1466  NaN   NaN   NaN   NaN   NaN    NaN    NaN    NaN  Global      All  \n",
       "1467  NaN   NaN   NaN   NaN   NaN    NaN    NaN    NaN  Global      All  \n",
       "1468  NaN   NaN   NaN   NaN   NaN    NaN    NaN    NaN  Global      All  "
      ]
     },
     "execution_count": 7,
     "metadata": {},
     "output_type": "execute_result"
    }
   ],
   "source": [
    "Data.tail(5)"
   ]
  },
  {
   "cell_type": "markdown",
   "metadata": {},
   "source": [
    "# Weighted Cohort Calculation"
   ]
  },
  {
   "cell_type": "markdown",
   "metadata": {},
   "source": [
    "We need to calculate the $\\textit{weighted by cohort size retention curve over days-since-install for cohorts}$ . I.e. where there are duplicate days with the data, we take the weighted daily average of retention values ( weighted by each days DNU values)"
   ]
  },
  {
   "cell_type": "markdown",
   "metadata": {},
   "source": [
    "Example calculation:\n",
    "\n",
    "20 Mar D1 = 50% DNU = 150 ; 20 Mar D1 = 75% DNU = 120 ; Weighted D1 = $(\\frac{150}{(150+120)})(\\frac{50}{100}) + (\\frac{120}{(150+120)})(\\frac{75}{100}) $"
   ]
  },
  {
   "cell_type": "markdown",
   "metadata": {},
   "source": [
    "### Check for duplicate dates"
   ]
  },
  {
   "cell_type": "markdown",
   "metadata": {},
   "source": [
    "Looks like all the dates are unique."
   ]
  },
  {
   "cell_type": "code",
   "execution_count": 8,
   "metadata": {},
   "outputs": [
    {
     "data": {
      "text/plain": [
       "(1469,)"
      ]
     },
     "execution_count": 8,
     "metadata": {},
     "output_type": "execute_result"
    }
   ],
   "source": [
    "Data.DATE.unique().shape"
   ]
  },
  {
   "cell_type": "code",
   "execution_count": 9,
   "metadata": {},
   "outputs": [
    {
     "data": {
      "text/plain": [
       "(1469,)"
      ]
     },
     "execution_count": 9,
     "metadata": {},
     "output_type": "execute_result"
    }
   ],
   "source": [
    "Data.DATE.values.shape"
   ]
  },
  {
   "cell_type": "code",
   "execution_count": 10,
   "metadata": {},
   "outputs": [
    {
     "data": {
      "text/plain": [
       "(1469, 19)"
      ]
     },
     "execution_count": 10,
     "metadata": {},
     "output_type": "execute_result"
    }
   ],
   "source": [
    "Data.shape"
   ]
  },
  {
   "cell_type": "markdown",
   "metadata": {},
   "source": [
    "No need to calculated daily weights for day since install retentions"
   ]
  },
  {
   "cell_type": "markdown",
   "metadata": {},
   "source": [
    "# Look at column statistics"
   ]
  },
  {
   "cell_type": "markdown",
   "metadata": {},
   "source": [
    "Look at statistics of non-nan values"
   ]
  },
  {
   "cell_type": "code",
   "execution_count": 11,
   "metadata": {},
   "outputs": [
    {
     "data": {
      "text/html": [
       "<div>\n",
       "<style scoped>\n",
       "    .dataframe tbody tr th:only-of-type {\n",
       "        vertical-align: middle;\n",
       "    }\n",
       "\n",
       "    .dataframe tbody tr th {\n",
       "        vertical-align: top;\n",
       "    }\n",
       "\n",
       "    .dataframe thead th {\n",
       "        text-align: right;\n",
       "    }\n",
       "</style>\n",
       "<table border=\"1\" class=\"dataframe\">\n",
       "  <thead>\n",
       "    <tr style=\"text-align: right;\">\n",
       "      <th></th>\n",
       "      <th>DNU</th>\n",
       "      <th>Revenue</th>\n",
       "      <th>DAU</th>\n",
       "      <th>D1</th>\n",
       "      <th>D7</th>\n",
       "      <th>D14</th>\n",
       "      <th>D30</th>\n",
       "      <th>D60</th>\n",
       "      <th>D90</th>\n",
       "      <th>D180</th>\n",
       "      <th>D365</th>\n",
       "      <th>D540</th>\n",
       "      <th>D730</th>\n",
       "      <th>D1095</th>\n",
       "      <th>D1460</th>\n",
       "      <th>D1600</th>\n",
       "    </tr>\n",
       "  </thead>\n",
       "  <tbody>\n",
       "    <tr>\n",
       "      <td>count</td>\n",
       "      <td>1469.0000000000</td>\n",
       "      <td>1469.0000000000</td>\n",
       "      <td>1469.0000000000</td>\n",
       "      <td>1468.0000000000</td>\n",
       "      <td>1462.0000000000</td>\n",
       "      <td>1455.0000000000</td>\n",
       "      <td>1439.0000000000</td>\n",
       "      <td>1409.0000000000</td>\n",
       "      <td>1379.0000000000</td>\n",
       "      <td>1289.0000000000</td>\n",
       "      <td>1104.0000000000</td>\n",
       "      <td>929.0000000000</td>\n",
       "      <td>739.0000000000</td>\n",
       "      <td>374.0000000000</td>\n",
       "      <td>10.0</td>\n",
       "      <td>1.0</td>\n",
       "    </tr>\n",
       "    <tr>\n",
       "      <td>mean</td>\n",
       "      <td>141.0844111641</td>\n",
       "      <td>15993.8407351940</td>\n",
       "      <td>239.2355343771</td>\n",
       "      <td>0.0044918570</td>\n",
       "      <td>0.0060344834</td>\n",
       "      <td>0.0037285194</td>\n",
       "      <td>0.0035152530</td>\n",
       "      <td>0.0019029279</td>\n",
       "      <td>0.0023870170</td>\n",
       "      <td>0.0019138743</td>\n",
       "      <td>0.0021282291</td>\n",
       "      <td>0.0015081090</td>\n",
       "      <td>0.0018774343</td>\n",
       "      <td>0.0013879086</td>\n",
       "      <td>0.0</td>\n",
       "      <td>0.0</td>\n",
       "    </tr>\n",
       "    <tr>\n",
       "      <td>std</td>\n",
       "      <td>135.5353386382</td>\n",
       "      <td>14733.8560507554</td>\n",
       "      <td>226.6493987095</td>\n",
       "      <td>0.0086755623</td>\n",
       "      <td>0.0282554697</td>\n",
       "      <td>0.0079851632</td>\n",
       "      <td>0.0274459631</td>\n",
       "      <td>0.0055194846</td>\n",
       "      <td>0.0076478151</td>\n",
       "      <td>0.0065246963</td>\n",
       "      <td>0.0072788550</td>\n",
       "      <td>0.0063287314</td>\n",
       "      <td>0.0077082928</td>\n",
       "      <td>0.0066950644</td>\n",
       "      <td>0.0</td>\n",
       "      <td>NaN</td>\n",
       "    </tr>\n",
       "    <tr>\n",
       "      <td>min</td>\n",
       "      <td>1.0000000000</td>\n",
       "      <td>12.0000000000</td>\n",
       "      <td>1.0000000000</td>\n",
       "      <td>0.0000000000</td>\n",
       "      <td>0.0000000000</td>\n",
       "      <td>0.0000000000</td>\n",
       "      <td>0.0000000000</td>\n",
       "      <td>0.0000000000</td>\n",
       "      <td>0.0000000000</td>\n",
       "      <td>0.0000000000</td>\n",
       "      <td>0.0000000000</td>\n",
       "      <td>0.0000000000</td>\n",
       "      <td>0.0000000000</td>\n",
       "      <td>0.0000000000</td>\n",
       "      <td>0.0</td>\n",
       "      <td>0.0</td>\n",
       "    </tr>\n",
       "    <tr>\n",
       "      <td>25%</td>\n",
       "      <td>43.0000000000</td>\n",
       "      <td>4846.6500000000</td>\n",
       "      <td>65.0000000000</td>\n",
       "      <td>0.0000000000</td>\n",
       "      <td>0.0000000000</td>\n",
       "      <td>0.0000000000</td>\n",
       "      <td>0.0000000000</td>\n",
       "      <td>0.0000000000</td>\n",
       "      <td>0.0000000000</td>\n",
       "      <td>0.0000000000</td>\n",
       "      <td>0.0000000000</td>\n",
       "      <td>0.0000000000</td>\n",
       "      <td>0.0000000000</td>\n",
       "      <td>0.0000000000</td>\n",
       "      <td>0.0</td>\n",
       "      <td>0.0</td>\n",
       "    </tr>\n",
       "    <tr>\n",
       "      <td>50%</td>\n",
       "      <td>102.0000000000</td>\n",
       "      <td>11182.9000000000</td>\n",
       "      <td>164.0000000000</td>\n",
       "      <td>0.0000000000</td>\n",
       "      <td>0.0000000000</td>\n",
       "      <td>0.0000000000</td>\n",
       "      <td>0.0000000000</td>\n",
       "      <td>0.0000000000</td>\n",
       "      <td>0.0000000000</td>\n",
       "      <td>0.0000000000</td>\n",
       "      <td>0.0000000000</td>\n",
       "      <td>0.0000000000</td>\n",
       "      <td>0.0000000000</td>\n",
       "      <td>0.0000000000</td>\n",
       "      <td>0.0</td>\n",
       "      <td>0.0</td>\n",
       "    </tr>\n",
       "    <tr>\n",
       "      <td>75%</td>\n",
       "      <td>195.0000000000</td>\n",
       "      <td>23011.9500000001</td>\n",
       "      <td>347.0000000000</td>\n",
       "      <td>0.0062208851</td>\n",
       "      <td>0.0070921986</td>\n",
       "      <td>0.0048780488</td>\n",
       "      <td>0.0019477318</td>\n",
       "      <td>0.0000000000</td>\n",
       "      <td>0.0000000000</td>\n",
       "      <td>0.0000000000</td>\n",
       "      <td>0.0000000000</td>\n",
       "      <td>0.0000000000</td>\n",
       "      <td>0.0000000000</td>\n",
       "      <td>0.0000000000</td>\n",
       "      <td>0.0</td>\n",
       "      <td>0.0</td>\n",
       "    </tr>\n",
       "    <tr>\n",
       "      <td>max</td>\n",
       "      <td>937.0000000000</td>\n",
       "      <td>115497.5999999998</td>\n",
       "      <td>1447.0000000000</td>\n",
       "      <td>0.0714285714</td>\n",
       "      <td>1.0000000000</td>\n",
       "      <td>0.0740740741</td>\n",
       "      <td>1.0000000000</td>\n",
       "      <td>0.0588235294</td>\n",
       "      <td>0.1250000000</td>\n",
       "      <td>0.0769230769</td>\n",
       "      <td>0.1250000000</td>\n",
       "      <td>0.0666666667</td>\n",
       "      <td>0.1000000000</td>\n",
       "      <td>0.0500000000</td>\n",
       "      <td>0.0</td>\n",
       "      <td>0.0</td>\n",
       "    </tr>\n",
       "  </tbody>\n",
       "</table>\n",
       "</div>"
      ],
      "text/plain": [
       "                   DNU            Revenue              DAU               D1  \\\n",
       "count  1469.0000000000    1469.0000000000  1469.0000000000  1468.0000000000   \n",
       "mean    141.0844111641   15993.8407351940   239.2355343771     0.0044918570   \n",
       "std     135.5353386382   14733.8560507554   226.6493987095     0.0086755623   \n",
       "min       1.0000000000      12.0000000000     1.0000000000     0.0000000000   \n",
       "25%      43.0000000000    4846.6500000000    65.0000000000     0.0000000000   \n",
       "50%     102.0000000000   11182.9000000000   164.0000000000     0.0000000000   \n",
       "75%     195.0000000000   23011.9500000001   347.0000000000     0.0062208851   \n",
       "max     937.0000000000  115497.5999999998  1447.0000000000     0.0714285714   \n",
       "\n",
       "                    D7              D14              D30              D60  \\\n",
       "count  1462.0000000000  1455.0000000000  1439.0000000000  1409.0000000000   \n",
       "mean      0.0060344834     0.0037285194     0.0035152530     0.0019029279   \n",
       "std       0.0282554697     0.0079851632     0.0274459631     0.0055194846   \n",
       "min       0.0000000000     0.0000000000     0.0000000000     0.0000000000   \n",
       "25%       0.0000000000     0.0000000000     0.0000000000     0.0000000000   \n",
       "50%       0.0000000000     0.0000000000     0.0000000000     0.0000000000   \n",
       "75%       0.0070921986     0.0048780488     0.0019477318     0.0000000000   \n",
       "max       1.0000000000     0.0740740741     1.0000000000     0.0588235294   \n",
       "\n",
       "                   D90             D180             D365            D540  \\\n",
       "count  1379.0000000000  1289.0000000000  1104.0000000000  929.0000000000   \n",
       "mean      0.0023870170     0.0019138743     0.0021282291    0.0015081090   \n",
       "std       0.0076478151     0.0065246963     0.0072788550    0.0063287314   \n",
       "min       0.0000000000     0.0000000000     0.0000000000    0.0000000000   \n",
       "25%       0.0000000000     0.0000000000     0.0000000000    0.0000000000   \n",
       "50%       0.0000000000     0.0000000000     0.0000000000    0.0000000000   \n",
       "75%       0.0000000000     0.0000000000     0.0000000000    0.0000000000   \n",
       "max       0.1250000000     0.0769230769     0.1250000000    0.0666666667   \n",
       "\n",
       "                 D730           D1095  D1460  D1600  \n",
       "count  739.0000000000  374.0000000000   10.0    1.0  \n",
       "mean     0.0018774343    0.0013879086    0.0    0.0  \n",
       "std      0.0077082928    0.0066950644    0.0    NaN  \n",
       "min      0.0000000000    0.0000000000    0.0    0.0  \n",
       "25%      0.0000000000    0.0000000000    0.0    0.0  \n",
       "50%      0.0000000000    0.0000000000    0.0    0.0  \n",
       "75%      0.0000000000    0.0000000000    0.0    0.0  \n",
       "max      0.1000000000    0.0500000000    0.0    0.0  "
      ]
     },
     "execution_count": 11,
     "metadata": {},
     "output_type": "execute_result"
    }
   ],
   "source": [
    "Data.describe()"
   ]
  },
  {
   "cell_type": "markdown",
   "metadata": {},
   "source": [
    "## Remove some outliers"
   ]
  },
  {
   "cell_type": "code",
   "execution_count": 12,
   "metadata": {},
   "outputs": [
    {
     "data": {
      "text/plain": [
       "(1469, 19)"
      ]
     },
     "execution_count": 12,
     "metadata": {},
     "output_type": "execute_result"
    }
   ],
   "source": [
    "Data.shape"
   ]
  },
  {
   "cell_type": "code",
   "execution_count": 13,
   "metadata": {},
   "outputs": [],
   "source": [
    "Data = Data[Data['D7']<0.999]\n",
    "Data = Data[Data['D30']<0.999]"
   ]
  },
  {
   "cell_type": "code",
   "execution_count": 14,
   "metadata": {},
   "outputs": [
    {
     "data": {
      "text/plain": [
       "(1437, 19)"
      ]
     },
     "execution_count": 14,
     "metadata": {},
     "output_type": "execute_result"
    }
   ],
   "source": [
    "Data.shape"
   ]
  },
  {
   "cell_type": "code",
   "execution_count": 15,
   "metadata": {},
   "outputs": [
    {
     "data": {
      "text/html": [
       "<div>\n",
       "<style scoped>\n",
       "    .dataframe tbody tr th:only-of-type {\n",
       "        vertical-align: middle;\n",
       "    }\n",
       "\n",
       "    .dataframe tbody tr th {\n",
       "        vertical-align: top;\n",
       "    }\n",
       "\n",
       "    .dataframe thead th {\n",
       "        text-align: right;\n",
       "    }\n",
       "</style>\n",
       "<table border=\"1\" class=\"dataframe\">\n",
       "  <thead>\n",
       "    <tr style=\"text-align: right;\">\n",
       "      <th></th>\n",
       "      <th>DNU</th>\n",
       "      <th>Revenue</th>\n",
       "      <th>DAU</th>\n",
       "      <th>D1</th>\n",
       "      <th>D7</th>\n",
       "      <th>D14</th>\n",
       "      <th>D30</th>\n",
       "      <th>D60</th>\n",
       "      <th>D90</th>\n",
       "      <th>D180</th>\n",
       "      <th>D365</th>\n",
       "      <th>D540</th>\n",
       "      <th>D730</th>\n",
       "      <th>D1095</th>\n",
       "      <th>D1460</th>\n",
       "      <th>D1600</th>\n",
       "    </tr>\n",
       "  </thead>\n",
       "  <tbody>\n",
       "    <tr>\n",
       "      <td>count</td>\n",
       "      <td>1437.0000000000</td>\n",
       "      <td>1437.0000000000</td>\n",
       "      <td>1437.0000000000</td>\n",
       "      <td>1437.0000000000</td>\n",
       "      <td>1437.0000000000</td>\n",
       "      <td>1437.0000000000</td>\n",
       "      <td>1437.0000000000</td>\n",
       "      <td>1407.0000000000</td>\n",
       "      <td>1377.0000000000</td>\n",
       "      <td>1287.0000000000</td>\n",
       "      <td>1102.0000000000</td>\n",
       "      <td>927.0000000000</td>\n",
       "      <td>737.0000000000</td>\n",
       "      <td>372.0000000000</td>\n",
       "      <td>8.0</td>\n",
       "      <td>1.0</td>\n",
       "    </tr>\n",
       "    <tr>\n",
       "      <td>mean</td>\n",
       "      <td>138.3472512178</td>\n",
       "      <td>15565.3422825331</td>\n",
       "      <td>232.7216423104</td>\n",
       "      <td>0.0045145298</td>\n",
       "      <td>0.0053799017</td>\n",
       "      <td>0.0037577644</td>\n",
       "      <td>0.0028242512</td>\n",
       "      <td>0.0019056329</td>\n",
       "      <td>0.0023904840</td>\n",
       "      <td>0.0019168485</td>\n",
       "      <td>0.0021320916</td>\n",
       "      <td>0.0015113627</td>\n",
       "      <td>0.0018825291</td>\n",
       "      <td>0.0013953705</td>\n",
       "      <td>0.0</td>\n",
       "      <td>0.0</td>\n",
       "    </tr>\n",
       "    <tr>\n",
       "      <td>std</td>\n",
       "      <td>133.5438847926</td>\n",
       "      <td>14334.4491480492</td>\n",
       "      <td>220.5560279391</td>\n",
       "      <td>0.0087500582</td>\n",
       "      <td>0.0111126942</td>\n",
       "      <td>0.0080269214</td>\n",
       "      <td>0.0078963327</td>\n",
       "      <td>0.0055229419</td>\n",
       "      <td>0.0076528292</td>\n",
       "      <td>0.0065293311</td>\n",
       "      <td>0.0072848974</td>\n",
       "      <td>0.0063351737</td>\n",
       "      <td>0.0077181368</td>\n",
       "      <td>0.0067123085</td>\n",
       "      <td>0.0</td>\n",
       "      <td>NaN</td>\n",
       "    </tr>\n",
       "    <tr>\n",
       "      <td>min</td>\n",
       "      <td>1.0000000000</td>\n",
       "      <td>12.0000000000</td>\n",
       "      <td>1.0000000000</td>\n",
       "      <td>0.0000000000</td>\n",
       "      <td>0.0000000000</td>\n",
       "      <td>0.0000000000</td>\n",
       "      <td>0.0000000000</td>\n",
       "      <td>0.0000000000</td>\n",
       "      <td>0.0000000000</td>\n",
       "      <td>0.0000000000</td>\n",
       "      <td>0.0000000000</td>\n",
       "      <td>0.0000000000</td>\n",
       "      <td>0.0000000000</td>\n",
       "      <td>0.0000000000</td>\n",
       "      <td>0.0</td>\n",
       "      <td>0.0</td>\n",
       "    </tr>\n",
       "    <tr>\n",
       "      <td>25%</td>\n",
       "      <td>43.0000000000</td>\n",
       "      <td>4756.1400000000</td>\n",
       "      <td>65.0000000000</td>\n",
       "      <td>0.0000000000</td>\n",
       "      <td>0.0000000000</td>\n",
       "      <td>0.0000000000</td>\n",
       "      <td>0.0000000000</td>\n",
       "      <td>0.0000000000</td>\n",
       "      <td>0.0000000000</td>\n",
       "      <td>0.0000000000</td>\n",
       "      <td>0.0000000000</td>\n",
       "      <td>0.0000000000</td>\n",
       "      <td>0.0000000000</td>\n",
       "      <td>0.0000000000</td>\n",
       "      <td>0.0</td>\n",
       "      <td>0.0</td>\n",
       "    </tr>\n",
       "    <tr>\n",
       "      <td>50%</td>\n",
       "      <td>96.0000000000</td>\n",
       "      <td>10778.7500000000</td>\n",
       "      <td>156.0000000000</td>\n",
       "      <td>0.0000000000</td>\n",
       "      <td>0.0000000000</td>\n",
       "      <td>0.0000000000</td>\n",
       "      <td>0.0000000000</td>\n",
       "      <td>0.0000000000</td>\n",
       "      <td>0.0000000000</td>\n",
       "      <td>0.0000000000</td>\n",
       "      <td>0.0000000000</td>\n",
       "      <td>0.0000000000</td>\n",
       "      <td>0.0000000000</td>\n",
       "      <td>0.0000000000</td>\n",
       "      <td>0.0</td>\n",
       "      <td>0.0</td>\n",
       "    </tr>\n",
       "    <tr>\n",
       "      <td>75%</td>\n",
       "      <td>191.0000000000</td>\n",
       "      <td>21874.3000000001</td>\n",
       "      <td>335.0000000000</td>\n",
       "      <td>0.0062500000</td>\n",
       "      <td>0.0070921986</td>\n",
       "      <td>0.0050000000</td>\n",
       "      <td>0.0019230769</td>\n",
       "      <td>0.0000000000</td>\n",
       "      <td>0.0000000000</td>\n",
       "      <td>0.0000000000</td>\n",
       "      <td>0.0000000000</td>\n",
       "      <td>0.0000000000</td>\n",
       "      <td>0.0000000000</td>\n",
       "      <td>0.0000000000</td>\n",
       "      <td>0.0</td>\n",
       "      <td>0.0</td>\n",
       "    </tr>\n",
       "    <tr>\n",
       "      <td>max</td>\n",
       "      <td>937.0000000000</td>\n",
       "      <td>115497.5999999998</td>\n",
       "      <td>1447.0000000000</td>\n",
       "      <td>0.0714285714</td>\n",
       "      <td>0.2000000000</td>\n",
       "      <td>0.0740740741</td>\n",
       "      <td>0.1111111111</td>\n",
       "      <td>0.0588235294</td>\n",
       "      <td>0.1250000000</td>\n",
       "      <td>0.0769230769</td>\n",
       "      <td>0.1250000000</td>\n",
       "      <td>0.0666666667</td>\n",
       "      <td>0.1000000000</td>\n",
       "      <td>0.0500000000</td>\n",
       "      <td>0.0</td>\n",
       "      <td>0.0</td>\n",
       "    </tr>\n",
       "  </tbody>\n",
       "</table>\n",
       "</div>"
      ],
      "text/plain": [
       "                   DNU            Revenue              DAU               D1  \\\n",
       "count  1437.0000000000    1437.0000000000  1437.0000000000  1437.0000000000   \n",
       "mean    138.3472512178   15565.3422825331   232.7216423104     0.0045145298   \n",
       "std     133.5438847926   14334.4491480492   220.5560279391     0.0087500582   \n",
       "min       1.0000000000      12.0000000000     1.0000000000     0.0000000000   \n",
       "25%      43.0000000000    4756.1400000000    65.0000000000     0.0000000000   \n",
       "50%      96.0000000000   10778.7500000000   156.0000000000     0.0000000000   \n",
       "75%     191.0000000000   21874.3000000001   335.0000000000     0.0062500000   \n",
       "max     937.0000000000  115497.5999999998  1447.0000000000     0.0714285714   \n",
       "\n",
       "                    D7              D14              D30              D60  \\\n",
       "count  1437.0000000000  1437.0000000000  1437.0000000000  1407.0000000000   \n",
       "mean      0.0053799017     0.0037577644     0.0028242512     0.0019056329   \n",
       "std       0.0111126942     0.0080269214     0.0078963327     0.0055229419   \n",
       "min       0.0000000000     0.0000000000     0.0000000000     0.0000000000   \n",
       "25%       0.0000000000     0.0000000000     0.0000000000     0.0000000000   \n",
       "50%       0.0000000000     0.0000000000     0.0000000000     0.0000000000   \n",
       "75%       0.0070921986     0.0050000000     0.0019230769     0.0000000000   \n",
       "max       0.2000000000     0.0740740741     0.1111111111     0.0588235294   \n",
       "\n",
       "                   D90             D180             D365            D540  \\\n",
       "count  1377.0000000000  1287.0000000000  1102.0000000000  927.0000000000   \n",
       "mean      0.0023904840     0.0019168485     0.0021320916    0.0015113627   \n",
       "std       0.0076528292     0.0065293311     0.0072848974    0.0063351737   \n",
       "min       0.0000000000     0.0000000000     0.0000000000    0.0000000000   \n",
       "25%       0.0000000000     0.0000000000     0.0000000000    0.0000000000   \n",
       "50%       0.0000000000     0.0000000000     0.0000000000    0.0000000000   \n",
       "75%       0.0000000000     0.0000000000     0.0000000000    0.0000000000   \n",
       "max       0.1250000000     0.0769230769     0.1250000000    0.0666666667   \n",
       "\n",
       "                 D730           D1095  D1460  D1600  \n",
       "count  737.0000000000  372.0000000000    8.0    1.0  \n",
       "mean     0.0018825291    0.0013953705    0.0    0.0  \n",
       "std      0.0077181368    0.0067123085    0.0    NaN  \n",
       "min      0.0000000000    0.0000000000    0.0    0.0  \n",
       "25%      0.0000000000    0.0000000000    0.0    0.0  \n",
       "50%      0.0000000000    0.0000000000    0.0    0.0  \n",
       "75%      0.0000000000    0.0000000000    0.0    0.0  \n",
       "max      0.1000000000    0.0500000000    0.0    0.0  "
      ]
     },
     "execution_count": 15,
     "metadata": {},
     "output_type": "execute_result"
    }
   ],
   "source": [
    "Data.describe()"
   ]
  },
  {
   "cell_type": "markdown",
   "metadata": {},
   "source": [
    "### Check if categorical cols have any information value"
   ]
  },
  {
   "cell_type": "code",
   "execution_count": 16,
   "metadata": {},
   "outputs": [
    {
     "data": {
      "text/plain": [
       "array(['Global'], dtype=object)"
      ]
     },
     "execution_count": 16,
     "metadata": {},
     "output_type": "execute_result"
    }
   ],
   "source": [
    "Data.country.unique()"
   ]
  },
  {
   "cell_type": "code",
   "execution_count": 17,
   "metadata": {},
   "outputs": [
    {
     "data": {
      "text/plain": [
       "array(['All'], dtype=object)"
      ]
     },
     "execution_count": 17,
     "metadata": {},
     "output_type": "execute_result"
    }
   ],
   "source": [
    "Data.platform.unique()"
   ]
  },
  {
   "cell_type": "markdown",
   "metadata": {},
   "source": [
    "Looks like the country and platform columns are redundant"
   ]
  },
  {
   "cell_type": "markdown",
   "metadata": {},
   "source": [
    "Assuming that the D{1,7,14,..1600} retention values are percentages i.e. 0.0044918570 = 0.4491857 %"
   ]
  },
  {
   "cell_type": "code",
   "execution_count": 18,
   "metadata": {},
   "outputs": [],
   "source": [
    "SortedData = Data.sort_values( by = 'DATE',ascending = False )"
   ]
  },
  {
   "cell_type": "markdown",
   "metadata": {},
   "source": [
    "Going to replace nan values with 0. i.e. Assuming that non retention values = 0.0% retention"
   ]
  },
  {
   "cell_type": "code",
   "execution_count": 19,
   "metadata": {},
   "outputs": [],
   "source": [
    "SortedData = SortedData.set_index('DATE')"
   ]
  },
  {
   "cell_type": "code",
   "execution_count": 20,
   "metadata": {},
   "outputs": [],
   "source": [
    "# Assume that default retention values are nil\n",
    "\n",
    "CohortsColumns = ['D1','D7','D14','D30','D60','D90','D180','D365','D540','D730','D1095','D1460','D1600']\n",
    "for CohortCol in CohortsColumns:\n",
    "    SortedData[CohortCol].fillna(0.0,inplace=True)"
   ]
  },
  {
   "cell_type": "markdown",
   "metadata": {},
   "source": [
    "Plot the hisogram for the Dx features with and without the \"0\" bucket"
   ]
  },
  {
   "cell_type": "code",
   "execution_count": 21,
   "metadata": {},
   "outputs": [
    {
     "data": {
      "image/png": "[encoded data removed]",
      "text/plain": [
       "<Figure size 720x720 with 6 Axes>"
      ]
     },
     "metadata": {
      "needs_background": "light"
     },
     "output_type": "display_data"
    }
   ],
   "source": [
    "N_bins = 75\n",
    "fig, ax = plt.subplots(3, 2,figsize = (10,10))\n",
    "ax[0,0].hist(SortedData.D1,N_bins)\n",
    "ax[0,0].title.set_text('D1 with 0 bucket')\n",
    "ax[0,1].hist(SortedData[SortedData['D1']>0].D1,N_bins)\n",
    "ax[0,1].title.set_text('D1 without 0 bucket')\n",
    "ax[1,0].hist(SortedData.D7,N_bins)\n",
    "ax[1,0].title.set_text('D7 with 0 bucket')\n",
    "ax[1,1].hist(SortedData[SortedData['D7']>0.0].D7,N_bins)\n",
    "ax[1,1].title.set_text('D7 without 0 bucket')\n",
    "\n",
    "ax[2,0].hist(SortedData.D14,N_bins)\n",
    "ax[2,0].title.set_text('D14 with 0 bucket')\n",
    "\n",
    "ax[2,1].hist(SortedData[SortedData['D14']>0].D14,N_bins)\n",
    "ax[2,1].title.set_text('D14 without 0 bucket')\n",
    "\n",
    "plt.show()"
   ]
  },
  {
   "cell_type": "code",
   "execution_count": 22,
   "metadata": {},
   "outputs": [
    {
     "data": {
      "image/png": "[encoded data removed]",
      "text/plain": [
       "<Figure size 720x720 with 6 Axes>"
      ]
     },
     "metadata": {
      "needs_background": "light"
     },
     "output_type": "display_data"
    }
   ],
   "source": [
    "N_bins = 75\n",
    "fig, ax = plt.subplots(3, 2,figsize = (10,10))\n",
    "ax[0,0].hist(SortedData.D30,N_bins)\n",
    "ax[0,0].title.set_text('D30 with 0 bucket')\n",
    "ax[0,1].hist(SortedData[SortedData['D30']>0.0].D30,N_bins)\n",
    "ax[0,1].title.set_text('D30 without 0 bucket')\n",
    "ax[1,0].hist(SortedData.D60,N_bins)\n",
    "ax[1,0].title.set_text('D60 with 0 bucket')\n",
    "ax[1,1].hist(SortedData[SortedData['D60']>0].D60,N_bins)\n",
    "ax[1,1].title.set_text('D60 without 0 bucket')\n",
    "ax[2,0].hist(SortedData.D90,N_bins)\n",
    "ax[2,0].title.set_text('D90 with 0 bucket')\n",
    "ax[2,1].hist(SortedData[SortedData['D90']>0].D90,N_bins)\n",
    "ax[2,1].title.set_text('D90 without 0 bucket')\n",
    "\n",
    "\n",
    "plt.show()"
   ]
  },
  {
   "cell_type": "code",
   "execution_count": 23,
   "metadata": {},
   "outputs": [
    {
     "data": {
      "image/png": "[encoded data removed]",
      "text/plain": [
       "<Figure size 360x360 with 2 Axes>"
      ]
     },
     "metadata": {
      "needs_background": "light"
     },
     "output_type": "display_data"
    }
   ],
   "source": [
    "N_bins = 75\n",
    "fig, ax = plt.subplots(1, 2,figsize = (5,5))\n",
    "ax[0].hist(SortedData.D180,N_bins)\n",
    "ax[1].hist(SortedData[SortedData['D180']>0].D180,N_bins)\n",
    "ax[1].title.set_text('D180 without 0 bucket')\n",
    "ax[0].title.set_text('D180 with 0 bucket')\n",
    "\n",
    "plt.show()"
   ]
  },
  {
   "cell_type": "markdown",
   "metadata": {},
   "source": [
    "## Set up date ranges data."
   ]
  },
  {
   "cell_type": "markdown",
   "metadata": {},
   "source": [
    "Use: \n",
    "(Current date - last 210 days for training ,Current date - last 30 days for training) for training the data\n"
   ]
  },
  {
   "cell_type": "code",
   "execution_count": 24,
   "metadata": {},
   "outputs": [],
   "source": [
    "NewestDate = SortedData.head(1).index[0]"
   ]
  },
  {
   "cell_type": "code",
   "execution_count": 25,
   "metadata": {},
   "outputs": [],
   "source": [
    "OldestDate = (datetime.strptime(NewestDate, '%Y-%m-%d') - timedelta(days=211)).strftime('%Y-%m-%d')"
   ]
  },
  {
   "cell_type": "code",
   "execution_count": 26,
   "metadata": {},
   "outputs": [],
   "source": [
    "LastTrainingDate = (datetime.strptime(NewestDate, '%Y-%m-%d') - timedelta(days=30)).strftime('%Y-%m-%d')"
   ]
  },
  {
   "cell_type": "code",
   "execution_count": 27,
   "metadata": {},
   "outputs": [
    {
     "name": "stdout",
     "output_type": "stream",
     "text": [
      "NewestDate == 2017-07-26\n",
      "OldestDate == 2016-12-27\n",
      "LastTrainingDate == 2017-06-26\n"
     ]
    }
   ],
   "source": [
    "print('NewestDate == {}'.format(NewestDate))\n",
    "print('OldestDate == {}'.format(OldestDate))\n",
    "print('LastTrainingDate == {}'.format(LastTrainingDate))"
   ]
  },
  {
   "cell_type": "code",
   "execution_count": 28,
   "metadata": {},
   "outputs": [],
   "source": [
    "#DataRecords = SortedData.to_dict(orient = 'index')"
   ]
  },
  {
   "cell_type": "markdown",
   "metadata": {},
   "source": [
    "# Calculating Weighted by cohort size retention"
   ]
  },
  {
   "cell_type": "markdown",
   "metadata": {},
   "source": [
    "![title](img/DaysSinceInstall.png)"
   ]
  },
  {
   "cell_type": "markdown",
   "metadata": {},
   "source": [
    "Above is what the $\\textit{weighted by cohort size retention curve over days-since-install for cohorts}$ should look like. For every $\\textit{Days Since Install}$ x-value , there is exactly one y-value. \n",
    "\n",
    "$\\textbf{Assumption:}$ Assuming in order to create the above the curve Im going to take the mean D1,D7,D14,D30,D60,D90,D180 values\n",
    "\n",
    "e.g. $\\langle (D1^{0}, R^{0}),(D1^{1}, R^{1}),\n",
    "(D1^{2}, R^{2}),...,(D1^{N}, R^{N}) \\rangle \\mapsto D1 : \\frac{1}{N} \\sum_{i}^{N} R^{i}$"
   ]
  },
  {
   "cell_type": "markdown",
   "metadata": {},
   "source": [
    "# Preprocessing"
   ]
  },
  {
   "cell_type": "code",
   "execution_count": 29,
   "metadata": {},
   "outputs": [],
   "source": [
    "SortedData.reset_index(inplace = True)\n",
    "CurveData = SortedData[(SortedData['DATE']>OldestDate) & (SortedData['DATE']<LastTrainingDate)]\n",
    "InferenceData = SortedData[SortedData['DATE']>OldestDate]"
   ]
  },
  {
   "cell_type": "code",
   "execution_count": 30,
   "metadata": {},
   "outputs": [
    {
     "name": "stdout",
     "output_type": "stream",
     "text": [
      "(180, 19)\n",
      "(211, 19)\n"
     ]
    }
   ],
   "source": [
    "print(CurveData.shape)\n",
    "print(InferenceData.shape)"
   ]
  },
  {
   "cell_type": "code",
   "execution_count": 31,
   "metadata": {},
   "outputs": [],
   "source": [
    "SUM_DNU = CurveData.DNU.sum()"
   ]
  },
  {
   "cell_type": "markdown",
   "metadata": {},
   "source": [
    "# Empirical Distribution"
   ]
  },
  {
   "cell_type": "markdown",
   "metadata": {},
   "source": [
    "## First approach: Not imputting any missing data (e.g. D2) instead we only work with the days since install data we have and construct a retention curve from that"
   ]
  },
  {
   "cell_type": "code",
   "execution_count": 32,
   "metadata": {},
   "outputs": [],
   "source": [
    "AggCurveRententions = SortedData.agg({'D1' : [np.mean], 'D7' : [np.mean],\n",
    "               'D14' : [np.mean], 'D30' : [np.mean],\n",
    "               'D60' : [np.mean],'D90' : [np.mean],\n",
    "               'D180' : [np.mean]\n",
    "              }).T * 100"
   ]
  },
  {
   "cell_type": "code",
   "execution_count": 33,
   "metadata": {},
   "outputs": [],
   "source": [
    "AggCurveRententions['DaySinceInstall'] = [1,7,14,30,60,90,180]"
   ]
  },
  {
   "cell_type": "code",
   "execution_count": 34,
   "metadata": {},
   "outputs": [
    {
     "data": {
      "text/html": [
       "<div>\n",
       "<style scoped>\n",
       "    .dataframe tbody tr th:only-of-type {\n",
       "        vertical-align: middle;\n",
       "    }\n",
       "\n",
       "    .dataframe tbody tr th {\n",
       "        vertical-align: top;\n",
       "    }\n",
       "\n",
       "    .dataframe thead th {\n",
       "        text-align: right;\n",
       "    }\n",
       "</style>\n",
       "<table border=\"1\" class=\"dataframe\">\n",
       "  <thead>\n",
       "    <tr style=\"text-align: right;\">\n",
       "      <th></th>\n",
       "      <th>mean</th>\n",
       "      <th>DaySinceInstall</th>\n",
       "    </tr>\n",
       "  </thead>\n",
       "  <tbody>\n",
       "    <tr>\n",
       "      <td>D1</td>\n",
       "      <td>0.4514529753</td>\n",
       "      <td>1</td>\n",
       "    </tr>\n",
       "    <tr>\n",
       "      <td>D7</td>\n",
       "      <td>0.5379901674</td>\n",
       "      <td>7</td>\n",
       "    </tr>\n",
       "    <tr>\n",
       "      <td>D14</td>\n",
       "      <td>0.3757764355</td>\n",
       "      <td>14</td>\n",
       "    </tr>\n",
       "    <tr>\n",
       "      <td>D30</td>\n",
       "      <td>0.2824251237</td>\n",
       "      <td>30</td>\n",
       "    </tr>\n",
       "    <tr>\n",
       "      <td>D60</td>\n",
       "      <td>0.1865849286</td>\n",
       "      <td>60</td>\n",
       "    </tr>\n",
       "    <tr>\n",
       "      <td>D90</td>\n",
       "      <td>0.2290672514</td>\n",
       "      <td>90</td>\n",
       "    </tr>\n",
       "    <tr>\n",
       "      <td>D180</td>\n",
       "      <td>0.1716759911</td>\n",
       "      <td>180</td>\n",
       "    </tr>\n",
       "  </tbody>\n",
       "</table>\n",
       "</div>"
      ],
      "text/plain": [
       "              mean  DaySinceInstall\n",
       "D1    0.4514529753                1\n",
       "D7    0.5379901674                7\n",
       "D14   0.3757764355               14\n",
       "D30   0.2824251237               30\n",
       "D60   0.1865849286               60\n",
       "D90   0.2290672514               90\n",
       "D180  0.1716759911              180"
      ]
     },
     "execution_count": 34,
     "metadata": {},
     "output_type": "execute_result"
    }
   ],
   "source": [
    "AggCurveRententions"
   ]
  },
  {
   "cell_type": "code",
   "execution_count": 35,
   "metadata": {},
   "outputs": [],
   "source": [
    "AggCurveRententions = AggCurveRententions.set_index('DaySinceInstall')"
   ]
  },
  {
   "cell_type": "markdown",
   "metadata": {},
   "source": [
    "## Note"
   ]
  },
  {
   "cell_type": "markdown",
   "metadata": {},
   "source": [
    "The retention values seem really low. For example $D_{1} = 0.0.4514529753$ % = 0.004514529753. \n",
    "\n",
    "Need to double check if the I'm interpreting the rentention values correctly"
   ]
  },
  {
   "cell_type": "markdown",
   "metadata": {},
   "source": [
    "# Retention Curve"
   ]
  },
  {
   "cell_type": "code",
   "execution_count": 36,
   "metadata": {},
   "outputs": [
    {
     "data": {
      "text/plain": [
       "<matplotlib.axes._subplots.AxesSubplot at 0x12adc4c18>"
      ]
     },
     "execution_count": 36,
     "metadata": {},
     "output_type": "execute_result"
    },
    {
     "data": {
      "image/png": "[encoded data removed]",
      "text/plain": [
       "<Figure size 432x288 with 1 Axes>"
      ]
     },
     "metadata": {
      "needs_background": "light"
     },
     "output_type": "display_data"
    }
   ],
   "source": [
    "AggCurveRententions.plot()"
   ]
  },
  {
   "cell_type": "code",
   "execution_count": 37,
   "metadata": {},
   "outputs": [
    {
     "data": {
      "text/plain": [
       "array([0.45145298, 0.53799017, 0.37577644, 0.28242512, 0.18658493,\n",
       "       0.22906725, 0.17167599])"
      ]
     },
     "execution_count": 37,
     "metadata": {},
     "output_type": "execute_result"
    }
   ],
   "source": [
    "AggCurveRententions['mean'].values"
   ]
  },
  {
   "cell_type": "code",
   "execution_count": 38,
   "metadata": {},
   "outputs": [],
   "source": [
    "DaysWithRetention = {'D'+str(i):val for i,val in zip([1,7,14,30,60,90,180],AggCurveRententions['mean'].values)}"
   ]
  },
  {
   "cell_type": "code",
   "execution_count": 39,
   "metadata": {},
   "outputs": [],
   "source": [
    "DatawithDefaults = {'D'+ str(i):DaysWithRetention.get('D'+ str(i),0.00) for i in range(1,181)}"
   ]
  },
  {
   "cell_type": "code",
   "execution_count": 40,
   "metadata": {},
   "outputs": [],
   "source": [
    "RentionVals = list(DatawithDefaults.values())"
   ]
  },
  {
   "cell_type": "code",
   "execution_count": 41,
   "metadata": {},
   "outputs": [],
   "source": [
    "days_since_install = [i for i in range(1,181)]"
   ]
  },
  {
   "cell_type": "markdown",
   "metadata": {},
   "source": [
    "### View data as bar plot"
   ]
  },
  {
   "cell_type": "code",
   "execution_count": 42,
   "metadata": {},
   "outputs": [
    {
     "data": {
      "image/png": "[encoded data removed]",
      "text/plain": [
       "<Figure size 432x288 with 1 Axes>"
      ]
     },
     "metadata": {
      "needs_background": "light"
     },
     "output_type": "display_data"
    }
   ],
   "source": [
    "fig, ax = plt.subplots(1, 1)\n",
    "ax.bar(days_since_install,RentionVals, lw=1, alpha=0.6)\n",
    "ax.title.set_text('Empirical distribution')"
   ]
  },
  {
   "cell_type": "code",
   "execution_count": 43,
   "metadata": {},
   "outputs": [
    {
     "data": {
      "text/plain": [
       "array([0.45145298, 0.53799017, 0.37577644, 0.28242512, 0.18658493,\n",
       "       0.22906725, 0.17167599])"
      ]
     },
     "execution_count": 43,
     "metadata": {},
     "output_type": "execute_result"
    }
   ],
   "source": [
    "datum = AggCurveRententions['mean'].values\n",
    "datum"
   ]
  },
  {
   "cell_type": "markdown",
   "metadata": {},
   "source": [
    "## Remarks"
   ]
  },
  {
   "cell_type": "markdown",
   "metadata": {},
   "source": [
    "1) The data distribution is positve skewed. "
   ]
  },
  {
   "cell_type": "markdown",
   "metadata": {},
   "source": [
    "2) \n",
    "\n",
    "Many of the positve skewed , long tail distributions belong to the Tweedie distribution,\n",
    "\n",
    "This includes the gamma distribution, Inverse Gaussian and scaled Poisson distributions\n",
    "\n",
    "https://en.wikipedia.org/wiki/Tweedie_distribution\n",
    "\n",
    "We going to try:\n",
    "\n",
    "Appoarch 1) model the data by a constant multiplied by a distribution from the Tweedie family\n",
    "\n",
    "i.e Modelling the retention curve by a Tweedie long tail statisical distribution.$Cf(x)$ where $f(x)$ is a pdf and $C \\in \\mathbb{R}^{+}$\n",
    "\n",
    "Appoarch 2) try GLM based on one of the distributions from the same family"
   ]
  },
  {
   "cell_type": "markdown",
   "metadata": {},
   "source": [
    "## Trying different long tail distributions"
   ]
  },
  {
   "cell_type": "markdown",
   "metadata": {},
   "source": [
    "# Weibull distribution"
   ]
  },
  {
   "cell_type": "code",
   "execution_count": 44,
   "metadata": {},
   "outputs": [],
   "source": [
    "\n",
    "c =1.7120999\n",
    "weibull_loc = 0.\n",
    "weibull_scale = 12.534234"
   ]
  },
  {
   "cell_type": "code",
   "execution_count": 45,
   "metadata": {},
   "outputs": [],
   "source": [
    "# C = 10\n",
    "Weibull_Variates = scipy.stats.distributions.weibull_min.pdf(days_since_install, c,weibull_loc,weibull_scale) * 10"
   ]
  },
  {
   "cell_type": "code",
   "execution_count": 46,
   "metadata": {},
   "outputs": [
    {
     "data": {
      "text/plain": [
       "<BarContainer object of 180 artists>"
      ]
     },
     "execution_count": 46,
     "metadata": {},
     "output_type": "execute_result"
    },
    {
     "data": {
      "image/png": "[encoded data removed]",
      "text/plain": [
       "<Figure size 432x288 with 1 Axes>"
      ]
     },
     "metadata": {
      "needs_background": "light"
     },
     "output_type": "display_data"
    }
   ],
   "source": [
    "fig, ax = plt.subplots(1, 1)\n",
    "ax.plot(days_since_install,Weibull_Variates, lw=1, alpha=0.6, label='weibull_min pdf',color = 'blue')\n",
    "ax.bar(days_since_install,RentionVals, lw=1, alpha=0.6, label='weibull_min pdf', color = 'red')"
   ]
  },
  {
   "cell_type": "markdown",
   "metadata": {},
   "source": [
    "# Inverse Gaussian"
   ]
  },
  {
   "cell_type": "code",
   "execution_count": 47,
   "metadata": {},
   "outputs": [],
   "source": [
    "InverseGauss_mu = 3750.255\n",
    "InverseGauss_loc = 1.645\n",
    "InverseGauss_scale = 9.2385\n",
    "\n"
   ]
  },
  {
   "cell_type": "code",
   "execution_count": 48,
   "metadata": {},
   "outputs": [],
   "source": [
    "# C = 10\n",
    "InverseGauss_Variates = scipy.stats.distributions.invgauss.pdf(days_since_install, InverseGauss_mu\n",
    "                                                               ,InverseGauss_loc,\n",
    "                                                               InverseGauss_scale) * 10"
   ]
  },
  {
   "cell_type": "code",
   "execution_count": 49,
   "metadata": {},
   "outputs": [
    {
     "data": {
      "text/plain": [
       "<BarContainer object of 180 artists>"
      ]
     },
     "execution_count": 49,
     "metadata": {},
     "output_type": "execute_result"
    },
    {
     "data": {
      "image/png": "[encoded data removed]",
      "text/plain": [
       "<Figure size 432x288 with 1 Axes>"
      ]
     },
     "metadata": {
      "needs_background": "light"
     },
     "output_type": "display_data"
    }
   ],
   "source": [
    "fig, ax = plt.subplots(1, 1)\n",
    "ax.plot(days_since_install,InverseGauss_Variates, lw=1, alpha=0.6, label='InverseGauss Variates pdf',color = 'blue')\n",
    "ax.bar(days_since_install,RentionVals, lw=1, alpha=0.6, label='weibull_min pdf', color = 'red')"
   ]
  },
  {
   "cell_type": "markdown",
   "metadata": {},
   "source": [
    "# Pareto Distribution"
   ]
  },
  {
   "cell_type": "code",
   "execution_count": 50,
   "metadata": {},
   "outputs": [],
   "source": [
    "Pareto_b = .089115\n",
    "Pareto_loc = 0.0\n",
    "Pareto_scale = 1.08434#0.1912142\n",
    "\n"
   ]
  },
  {
   "cell_type": "code",
   "execution_count": 51,
   "metadata": {},
   "outputs": [],
   "source": [
    "# C = 10\n",
    "Pareto_Variates = scipy.stats.distributions.pareto.pdf(days_since_install, Pareto_b\n",
    "                                                               ,Pareto_loc,\n",
    "                                                               Pareto_scale) * 10"
   ]
  },
  {
   "cell_type": "code",
   "execution_count": 52,
   "metadata": {},
   "outputs": [
    {
     "data": {
      "text/plain": [
       "<BarContainer object of 180 artists>"
      ]
     },
     "execution_count": 52,
     "metadata": {},
     "output_type": "execute_result"
    },
    {
     "data": {
      "image/png": "[encoded data removed]",
      "text/plain": [
       "<Figure size 432x288 with 1 Axes>"
      ]
     },
     "metadata": {
      "needs_background": "light"
     },
     "output_type": "display_data"
    }
   ],
   "source": [
    "fig, ax = plt.subplots(1, 1)\n",
    "ax.plot(days_since_install,Pareto_Variates, lw=1, alpha=0.6, label='Pareto Variates Variates pdf',color = 'blue')\n",
    "ax.bar(days_since_install,RentionVals, lw=1, alpha=0.6, label='weibull_min pdf', color = 'red')"
   ]
  },
  {
   "cell_type": "markdown",
   "metadata": {},
   "source": [
    "# Log normal"
   ]
  },
  {
   "cell_type": "code",
   "execution_count": 53,
   "metadata": {},
   "outputs": [],
   "source": [
    "LogNormal_s = 0.8905\n",
    "LogNormal_loc = 0.6783456#np.log(100000)\n",
    "LogNormal_scale =np.log(9000)"
   ]
  },
  {
   "cell_type": "code",
   "execution_count": 54,
   "metadata": {},
   "outputs": [],
   "source": [
    "# C = 10\n",
    "LogNormal_Variates = scipy.stats.distributions.lognorm.pdf(days_since_install, LogNormal_s\n",
    "                                                               ,LogNormal_loc,\n",
    "                                                               LogNormal_scale) * 7\n"
   ]
  },
  {
   "cell_type": "code",
   "execution_count": 55,
   "metadata": {},
   "outputs": [
    {
     "data": {
      "text/plain": [
       "<BarContainer object of 180 artists>"
      ]
     },
     "execution_count": 55,
     "metadata": {},
     "output_type": "execute_result"
    },
    {
     "data": {
      "image/png": "[encoded data removed]",
      "text/plain": [
       "<Figure size 432x288 with 1 Axes>"
      ]
     },
     "metadata": {
      "needs_background": "light"
     },
     "output_type": "display_data"
    }
   ],
   "source": [
    "fig, ax = plt.subplots(1, 1)\n",
    "ax.plot(days_since_install,LogNormal_Variates, lw=1, alpha=0.6, label='LogNormal Variates',color = 'blue')\n",
    "ax.bar(days_since_install,RentionVals, lw=1, alpha=0.6, label='LogNormal', color = 'red')"
   ]
  },
  {
   "cell_type": "markdown",
   "metadata": {},
   "source": [
    "### Choosing the final distribution "
   ]
  },
  {
   "cell_type": "markdown",
   "metadata": {},
   "source": [
    "Going with Weibull distribution"
   ]
  },
  {
   "cell_type": "markdown",
   "metadata": {},
   "source": [
    "# Generalized Linear Models (GLM)"
   ]
  },
  {
   "cell_type": "markdown",
   "metadata": {},
   "source": [
    "Lets try fit some GLMs. We're going to keep the Tweedie family of models as many long tail distributions belong to it"
   ]
  },
  {
   "cell_type": "code",
   "execution_count": 56,
   "metadata": {},
   "outputs": [],
   "source": [
    "x = np.asarray([1,7,14,30,60,90,180])\n",
    "y =AggCurveRententions['mean'].values\n",
    "y = np.asarray([val if (val > 0.005) else 0.005 for val in y])"
   ]
  },
  {
   "cell_type": "code",
   "execution_count": 57,
   "metadata": {},
   "outputs": [],
   "source": [
    "TrainData = pd.DataFrame(np.asarray([i for i in range(1,181)]))"
   ]
  },
  {
   "cell_type": "markdown",
   "metadata": {},
   "source": [
    "## Poisson Family Regression"
   ]
  },
  {
   "cell_type": "code",
   "execution_count": 58,
   "metadata": {},
   "outputs": [],
   "source": [
    "PoissonRegression = TweedieRegressor(power=1, alpha=4.324e-5, link='log', max_iter=50000,fit_intercept = False)\n"
   ]
  },
  {
   "cell_type": "code",
   "execution_count": 59,
   "metadata": {},
   "outputs": [
    {
     "data": {
      "text/plain": [
       "TweedieRegressor(alpha=4.324e-05, fit_intercept=False, link='log',\n",
       "                 max_iter=50000, power=1)"
      ]
     },
     "execution_count": 59,
     "metadata": {},
     "output_type": "execute_result"
    }
   ],
   "source": [
    "PoissonRegression.fit(\n",
    "    pd.DataFrame(x),\n",
    "    y)"
   ]
  },
  {
   "cell_type": "code",
   "execution_count": 60,
   "metadata": {},
   "outputs": [],
   "source": [
    "PoissonPredictions = PoissonRegression.predict(TrainData)"
   ]
  },
  {
   "cell_type": "code",
   "execution_count": 61,
   "metadata": {},
   "outputs": [
    {
     "data": {
      "text/plain": [
       "<BarContainer object of 180 artists>"
      ]
     },
     "execution_count": 61,
     "metadata": {},
     "output_type": "execute_result"
    },
    {
     "data": {
      "image/png": "[encoded data removed]",
      "text/plain": [
       "<Figure size 432x288 with 1 Axes>"
      ]
     },
     "metadata": {
      "needs_background": "light"
     },
     "output_type": "display_data"
    }
   ],
   "source": [
    "fig, ax = plt.subplots(1, 1)\n",
    "ax.plot(days_since_install,PoissonPredictions, lw=1, alpha=0.6, label='LogNormal Variates',color = 'blue')\n",
    "ax.bar(days_since_install,RentionVals, lw=1, alpha=0.6, label='weibull_min pdf', color = 'red')"
   ]
  },
  {
   "cell_type": "markdown",
   "metadata": {},
   "source": [
    "## Gamma Family Regression"
   ]
  },
  {
   "cell_type": "code",
   "execution_count": 62,
   "metadata": {},
   "outputs": [
    {
     "data": {
      "text/plain": [
       "GammaRegressor(alpha=4.51243e-15, fit_intercept=False, max_iter=100000)"
      ]
     },
     "execution_count": 62,
     "metadata": {},
     "output_type": "execute_result"
    }
   ],
   "source": [
    "GammaDist = GammaRegressor(alpha=4.51243e-15, max_iter=100000,fit_intercept = False) # 125\n",
    "\n",
    "GammaDist.fit(\n",
    "    pd.DataFrame(x),\n",
    "    y)"
   ]
  },
  {
   "cell_type": "code",
   "execution_count": 63,
   "metadata": {},
   "outputs": [],
   "source": [
    "GammPredictions = GammaDist.predict(TrainData)"
   ]
  },
  {
   "cell_type": "code",
   "execution_count": 64,
   "metadata": {},
   "outputs": [
    {
     "data": {
      "text/plain": [
       "<BarContainer object of 180 artists>"
      ]
     },
     "execution_count": 64,
     "metadata": {},
     "output_type": "execute_result"
    },
    {
     "data": {
      "image/png": "[encoded data removed]",
      "text/plain": [
       "<Figure size 432x288 with 1 Axes>"
      ]
     },
     "metadata": {
      "needs_background": "light"
     },
     "output_type": "display_data"
    }
   ],
   "source": [
    "fig, ax = plt.subplots(1, 1)\n",
    "ax.plot(days_since_install,GammPredictions, lw=1, alpha=0.6, label='LogNormal Variates',color = 'blue')\n",
    "ax.bar(days_since_install,RentionVals, lw=1, alpha=0.6, label='weibull_min pdf', color = 'red')"
   ]
  },
  {
   "cell_type": "markdown",
   "metadata": {},
   "source": [
    "## Inverse Gaussian Regression"
   ]
  },
  {
   "cell_type": "code",
   "execution_count": 65,
   "metadata": {},
   "outputs": [],
   "source": [
    "y0 = np.asarray([val if (val > 0.005) else 0.005 for val in y])"
   ]
  },
  {
   "cell_type": "code",
   "execution_count": 66,
   "metadata": {},
   "outputs": [],
   "source": [
    "InverseGaussian = TweedieRegressor(power=3, alpha=4.324e1, link='log', max_iter=10000,fit_intercept = False)\n"
   ]
  },
  {
   "cell_type": "code",
   "execution_count": 67,
   "metadata": {},
   "outputs": [
    {
     "data": {
      "text/plain": [
       "TweedieRegressor(alpha=43.24, fit_intercept=False, link='log', max_iter=10000,\n",
       "                 power=3)"
      ]
     },
     "execution_count": 67,
     "metadata": {},
     "output_type": "execute_result"
    }
   ],
   "source": [
    "InverseGaussian.fit(\n",
    "    pd.DataFrame(x),\n",
    "    y)"
   ]
  },
  {
   "cell_type": "code",
   "execution_count": 68,
   "metadata": {},
   "outputs": [],
   "source": [
    "InverseGaussianPredictions = InverseGaussian.predict(TrainData)"
   ]
  },
  {
   "cell_type": "code",
   "execution_count": 69,
   "metadata": {},
   "outputs": [
    {
     "data": {
      "text/plain": [
       "<BarContainer object of 180 artists>"
      ]
     },
     "execution_count": 69,
     "metadata": {},
     "output_type": "execute_result"
    },
    {
     "data": {
      "image/png": "[encoded data removed]",
      "text/plain": [
       "<Figure size 432x288 with 1 Axes>"
      ]
     },
     "metadata": {
      "needs_background": "light"
     },
     "output_type": "display_data"
    }
   ],
   "source": [
    "fig, ax = plt.subplots(1, 1)\n",
    "ax.plot(days_since_install,InverseGaussianPredictions, lw=1, alpha=0.6, label='LogNormal Variates',color = 'blue')\n",
    "ax.bar(days_since_install,RentionVals, lw=1, alpha=0.6, label='weibull_min pdf', color = 'red')"
   ]
  },
  {
   "cell_type": "markdown",
   "metadata": {},
   "source": [
    "# Hybird model"
   ]
  },
  {
   "cell_type": "markdown",
   "metadata": {},
   "source": [
    "Different behaviours we're trying to capture. The $Cf(x)$ appoarch works well when the days since install is small but the distribution tapers off quickly . The regression $R(x)$ approach works well when the days since install is higher but severely over estimates the retention values for small values of days since install (less than 25 days)\n",
    "\n",
    "I believe the best model for this problem is a piece-wise function where the for small values we use the $Cf(x)$ distribution approach and for larger values of days since install we use the $R(x)$ regression approach"
   ]
  },
  {
   "cell_type": "code",
   "execution_count": 70,
   "metadata": {},
   "outputs": [],
   "source": [
    "Begining = list(Weibull_Variates[:20])"
   ]
  },
  {
   "cell_type": "code",
   "execution_count": 71,
   "metadata": {},
   "outputs": [],
   "source": [
    "MidSection = list((Weibull_Variates[20:100] + InverseGaussianPredictions[20:100]) * (1/2))"
   ]
  },
  {
   "cell_type": "code",
   "execution_count": 72,
   "metadata": {},
   "outputs": [],
   "source": [
    "EndSection = list(InverseGaussianPredictions[100:])"
   ]
  },
  {
   "cell_type": "code",
   "execution_count": 73,
   "metadata": {},
   "outputs": [],
   "source": [
    "HybirdModel = Begining + MidSection + EndSection\n",
    "HybirdModel = np.asarray(HybirdModel)"
   ]
  },
  {
   "cell_type": "code",
   "execution_count": 74,
   "metadata": {},
   "outputs": [
    {
     "data": {
      "text/plain": [
       "<BarContainer object of 180 artists>"
      ]
     },
     "execution_count": 74,
     "metadata": {},
     "output_type": "execute_result"
    },
    {
     "data": {
      "image/png": "[encoded data removed]",
      "text/plain": [
       "<Figure size 432x288 with 1 Axes>"
      ]
     },
     "metadata": {
      "needs_background": "light"
     },
     "output_type": "display_data"
    }
   ],
   "source": [
    "fig, ax = plt.subplots(1, 1)\n",
    "ax.plot(days_since_install,HybirdModel, lw=1, alpha=0.6, label='LogNormal Variates',color = 'blue')\n",
    "ax.bar(days_since_install,RentionVals, lw=1, alpha=0.6, label='weibull_min pdf', color = 'red')"
   ]
  },
  {
   "cell_type": "markdown",
   "metadata": {},
   "source": [
    "$f(x) = \\begin{cases} CW(x) &\\mbox{if } x \\in [0,25] \\\\\n",
    "\\frac{(Cf(x) + InvGauss(x))}{2} & \\mbox{if } x \\in [25,100]  \\\\\n",
    "InvGauss(x) &\\mbox{if } x \\gt 100 \\end{cases}$ \n",
    "\n",
    "Where \n",
    "\n",
    "$C = 10$\n",
    "\n",
    "$W(x)$ is the Weibull distribution\n",
    "\n",
    "$InvGauss(x)$ Is Inverse Gaussian Regression model"
   ]
  },
  {
   "cell_type": "code",
   "execution_count": 75,
   "metadata": {},
   "outputs": [],
   "source": [
    "HybirdRegressionRentetionValues = {'D'+ str(day_since_install):HybirdModel[day_since_install-1]/100 for day_since_install in [1,7,14,30,60,90,180]}"
   ]
  },
  {
   "cell_type": "markdown",
   "metadata": {},
   "source": [
    "# Predictions"
   ]
  },
  {
   "cell_type": "markdown",
   "metadata": {},
   "source": [
    "## Example DAU calculation"
   ]
  },
  {
   "cell_type": "markdown",
   "metadata": {},
   "source": [
    "![title](img/CalculationExample.png)"
   ]
  },
  {
   "cell_type": "code",
   "execution_count": 76,
   "metadata": {},
   "outputs": [
    {
     "data": {
      "text/plain": [
       "254.3"
      ]
     },
     "execution_count": 76,
     "metadata": {},
     "output_type": "execute_result"
    }
   ],
   "source": [
    "130 * (100/100) + 120 * (34/100) + 110 * (45/100) + 100 * (34/100)\n",
    "#21Mar * D0.      20Mar * D1       20Mar * D2       19Mar * D3"
   ]
  },
  {
   "cell_type": "markdown",
   "metadata": {},
   "source": [
    "### Question / Notes"
   ]
  },
  {
   "cell_type": "markdown",
   "metadata": {},
   "source": [
    "Should it not be :\n",
    "\n",
    "#21Mar * D0(K19)      20Mar * D1(L18)       20Mar * D1(L17)       19Mar * D2(M16)\n",
    "\n"
   ]
  },
  {
   "cell_type": "markdown",
   "metadata": {},
   "source": [
    "We only have $D_{1},D_{7},...D_{1600}$ . We are not given retention data for every day since install. i.e. We are not given $D_{2}, D_{3}$ for example"
   ]
  },
  {
   "cell_type": "markdown",
   "metadata": {},
   "source": [
    "# Plot Hybird model predictions"
   ]
  },
  {
   "cell_type": "code",
   "execution_count": 77,
   "metadata": {},
   "outputs": [],
   "source": [
    "PredictionLookBack = (datetime.strptime(NewestDate, '%Y-%m-%d') - timedelta(days=180)).strftime('%Y-%m-%d')"
   ]
  },
  {
   "cell_type": "code",
   "execution_count": 78,
   "metadata": {},
   "outputs": [],
   "source": [
    "PredictionData = SortedData[SortedData['DATE']>PredictionLookBack]"
   ]
  },
  {
   "cell_type": "code",
   "execution_count": 79,
   "metadata": {},
   "outputs": [],
   "source": [
    "PredictionData.set_index('DATE', inplace = True)"
   ]
  },
  {
   "cell_type": "code",
   "execution_count": 80,
   "metadata": {},
   "outputs": [
    {
     "name": "stderr",
     "output_type": "stream",
     "text": [
      "/Users/paballomoeletsi/.virtualenvs/tensorflow_env/lib/python3.6/site-packages/ipykernel_launcher.py:1: SettingWithCopyWarning: \n",
      "A value is trying to be set on a copy of a slice from a DataFrame.\n",
      "Try using .loc[row_indexer,col_indexer] = value instead\n",
      "\n",
      "See the caveats in the documentation: http://pandas.pydata.org/pandas-docs/stable/user_guide/indexing.html#returning-a-view-versus-a-copy\n",
      "  \"\"\"Entry point for launching an IPython kernel.\n",
      "/Users/paballomoeletsi/.virtualenvs/tensorflow_env/lib/python3.6/site-packages/ipykernel_launcher.py:2: SettingWithCopyWarning: \n",
      "A value is trying to be set on a copy of a slice from a DataFrame.\n",
      "Try using .loc[row_indexer,col_indexer] = value instead\n",
      "\n",
      "See the caveats in the documentation: http://pandas.pydata.org/pandas-docs/stable/user_guide/indexing.html#returning-a-view-versus-a-copy\n",
      "  \n",
      "/Users/paballomoeletsi/.virtualenvs/tensorflow_env/lib/python3.6/site-packages/ipykernel_launcher.py:3: SettingWithCopyWarning: \n",
      "A value is trying to be set on a copy of a slice from a DataFrame.\n",
      "Try using .loc[row_indexer,col_indexer] = value instead\n",
      "\n",
      "See the caveats in the documentation: http://pandas.pydata.org/pandas-docs/stable/user_guide/indexing.html#returning-a-view-versus-a-copy\n",
      "  This is separate from the ipykernel package so we can avoid doing imports until\n",
      "/Users/paballomoeletsi/.virtualenvs/tensorflow_env/lib/python3.6/site-packages/ipykernel_launcher.py:4: SettingWithCopyWarning: \n",
      "A value is trying to be set on a copy of a slice from a DataFrame.\n",
      "Try using .loc[row_indexer,col_indexer] = value instead\n",
      "\n",
      "See the caveats in the documentation: http://pandas.pydata.org/pandas-docs/stable/user_guide/indexing.html#returning-a-view-versus-a-copy\n",
      "  after removing the cwd from sys.path.\n",
      "/Users/paballomoeletsi/.virtualenvs/tensorflow_env/lib/python3.6/site-packages/ipykernel_launcher.py:5: SettingWithCopyWarning: \n",
      "A value is trying to be set on a copy of a slice from a DataFrame.\n",
      "Try using .loc[row_indexer,col_indexer] = value instead\n",
      "\n",
      "See the caveats in the documentation: http://pandas.pydata.org/pandas-docs/stable/user_guide/indexing.html#returning-a-view-versus-a-copy\n",
      "  \"\"\"\n",
      "/Users/paballomoeletsi/.virtualenvs/tensorflow_env/lib/python3.6/site-packages/ipykernel_launcher.py:6: SettingWithCopyWarning: \n",
      "A value is trying to be set on a copy of a slice from a DataFrame.\n",
      "Try using .loc[row_indexer,col_indexer] = value instead\n",
      "\n",
      "See the caveats in the documentation: http://pandas.pydata.org/pandas-docs/stable/user_guide/indexing.html#returning-a-view-versus-a-copy\n",
      "  \n",
      "/Users/paballomoeletsi/.virtualenvs/tensorflow_env/lib/python3.6/site-packages/ipykernel_launcher.py:7: SettingWithCopyWarning: \n",
      "A value is trying to be set on a copy of a slice from a DataFrame.\n",
      "Try using .loc[row_indexer,col_indexer] = value instead\n",
      "\n",
      "See the caveats in the documentation: http://pandas.pydata.org/pandas-docs/stable/user_guide/indexing.html#returning-a-view-versus-a-copy\n",
      "  import sys\n"
     ]
    }
   ],
   "source": [
    "PredictionData['Regression_D1'] = HybirdRegressionRentetionValues['D1']\n",
    "PredictionData['Regression_D7'] = HybirdRegressionRentetionValues['D7']\n",
    "PredictionData['Regression_D14'] = HybirdRegressionRentetionValues['D14']\n",
    "PredictionData['Regression_D30'] = HybirdRegressionRentetionValues['D30']\n",
    "PredictionData['Regression_D60'] = HybirdRegressionRentetionValues['D60']\n",
    "PredictionData['Regression_D90'] = HybirdRegressionRentetionValues['D90']\n",
    "PredictionData['Regression_D180'] = HybirdRegressionRentetionValues['D180']"
   ]
  },
  {
   "cell_type": "code",
   "execution_count": 81,
   "metadata": {},
   "outputs": [
    {
     "data": {
      "text/plain": [
       "(180, 25)"
      ]
     },
     "execution_count": 81,
     "metadata": {},
     "output_type": "execute_result"
    }
   ],
   "source": [
    "PredictionData.shape"
   ]
  },
  {
   "cell_type": "code",
   "execution_count": 82,
   "metadata": {},
   "outputs": [],
   "source": [
    "CurvePredictionRecords = PredictionData.to_dict(orient = 'index')\n"
   ]
  },
  {
   "cell_type": "code",
   "execution_count": 83,
   "metadata": {},
   "outputs": [],
   "source": [
    "def MakePredictedDNUDataset(DataRecords,DxLookback = [1,7,14,30,60,90,180],\n",
    "                           DistributionCurveVal = 'Weibull_D',PredictedDNU_column = 'WeibullPrediction'):\n",
    "    \n",
    "    for CurrentDay in DataRecords.keys():\n",
    "        \n",
    "        days = [[(datetime.strptime(CurrentDay, '%Y-%m-%d') - timedelta(days=daylookback)).strftime('%Y-%m-%d'),\n",
    "                 DistributionCurveVal+ str(daylookback)]\n",
    "            for daylookback in DxLookback]\n",
    "\n",
    "\n",
    "        WeightedDNU = 0.0\n",
    "        for daylookback,column in days:\n",
    "            try:\n",
    "                WeightedDNU = WeightedDNU + DataRecords[daylookback][column] * DataRecords[daylookback]['DNU'] \n",
    "            except KeyError:\n",
    "                pass\n",
    "                \n",
    "    \n",
    "        DataRecords[CurrentDay][PredictedDNU_column+'_'+'HistoricDNUContribution'] = WeightedDNU\n",
    "        DataRecords[CurrentDay][PredictedDNU_column] = DataRecords[CurrentDay]['DNU'] + WeightedDNU\n",
    "    \n",
    "    return DataRecords"
   ]
  },
  {
   "cell_type": "code",
   "execution_count": 84,
   "metadata": {},
   "outputs": [
    {
     "data": {
      "text/html": [
       "<div>\n",
       "<style scoped>\n",
       "    .dataframe tbody tr th:only-of-type {\n",
       "        vertical-align: middle;\n",
       "    }\n",
       "\n",
       "    .dataframe tbody tr th {\n",
       "        vertical-align: top;\n",
       "    }\n",
       "\n",
       "    .dataframe thead th {\n",
       "        text-align: right;\n",
       "    }\n",
       "</style>\n",
       "<table border=\"1\" class=\"dataframe\">\n",
       "  <thead>\n",
       "    <tr style=\"text-align: right;\">\n",
       "      <th></th>\n",
       "      <th>DNU</th>\n",
       "      <th>Revenue</th>\n",
       "      <th>DAU</th>\n",
       "      <th>D1</th>\n",
       "      <th>D7</th>\n",
       "      <th>D14</th>\n",
       "      <th>D30</th>\n",
       "      <th>D60</th>\n",
       "      <th>D90</th>\n",
       "      <th>D180</th>\n",
       "      <th>D365</th>\n",
       "      <th>D540</th>\n",
       "      <th>D730</th>\n",
       "      <th>D1095</th>\n",
       "      <th>D1460</th>\n",
       "      <th>D1600</th>\n",
       "      <th>country</th>\n",
       "      <th>platform</th>\n",
       "      <th>Regression_D1</th>\n",
       "      <th>Regression_D7</th>\n",
       "      <th>Regression_D14</th>\n",
       "      <th>Regression_D30</th>\n",
       "      <th>Regression_D60</th>\n",
       "      <th>Regression_D90</th>\n",
       "      <th>Regression_D180</th>\n",
       "    </tr>\n",
       "    <tr>\n",
       "      <th>DATE</th>\n",
       "      <th></th>\n",
       "      <th></th>\n",
       "      <th></th>\n",
       "      <th></th>\n",
       "      <th></th>\n",
       "      <th></th>\n",
       "      <th></th>\n",
       "      <th></th>\n",
       "      <th></th>\n",
       "      <th></th>\n",
       "      <th></th>\n",
       "      <th></th>\n",
       "      <th></th>\n",
       "      <th></th>\n",
       "      <th></th>\n",
       "      <th></th>\n",
       "      <th></th>\n",
       "      <th></th>\n",
       "      <th></th>\n",
       "      <th></th>\n",
       "      <th></th>\n",
       "      <th></th>\n",
       "      <th></th>\n",
       "      <th></th>\n",
       "      <th></th>\n",
       "    </tr>\n",
       "  </thead>\n",
       "  <tbody>\n",
       "    <tr>\n",
       "      <td>2017-07-22</td>\n",
       "      <td>281</td>\n",
       "      <td>35837.1</td>\n",
       "      <td>517</td>\n",
       "      <td>0.0071174377</td>\n",
       "      <td>0.0035587189</td>\n",
       "      <td>0.0035587189</td>\n",
       "      <td>0.0035587189</td>\n",
       "      <td>0.0</td>\n",
       "      <td>0.0</td>\n",
       "      <td>0.0</td>\n",
       "      <td>0.0</td>\n",
       "      <td>0.0</td>\n",
       "      <td>0.0</td>\n",
       "      <td>0.0</td>\n",
       "      <td>0.0</td>\n",
       "      <td>0.0</td>\n",
       "      <td>Global</td>\n",
       "      <td>All</td>\n",
       "      <td>0.0022271607</td>\n",
       "      <td>0.0062385636</td>\n",
       "      <td>0.0044137301</td>\n",
       "      <td>0.0037809752</td>\n",
       "      <td>0.0026402498</td>\n",
       "      <td>0.0019185811</td>\n",
       "      <td>0.0014723814</td>\n",
       "    </tr>\n",
       "  </tbody>\n",
       "</table>\n",
       "</div>"
      ],
      "text/plain": [
       "            DNU  Revenue  DAU            D1            D7           D14  \\\n",
       "DATE                                                                      \n",
       "2017-07-22  281  35837.1  517  0.0071174377  0.0035587189  0.0035587189   \n",
       "\n",
       "                     D30  D60  D90  D180  D365  D540  D730  D1095  D1460  \\\n",
       "DATE                                                                       \n",
       "2017-07-22  0.0035587189  0.0  0.0   0.0   0.0   0.0   0.0    0.0    0.0   \n",
       "\n",
       "            D1600 country platform  Regression_D1  Regression_D7  \\\n",
       "DATE                                                               \n",
       "2017-07-22    0.0  Global      All   0.0022271607   0.0062385636   \n",
       "\n",
       "            Regression_D14  Regression_D30  Regression_D60  Regression_D90  \\\n",
       "DATE                                                                         \n",
       "2017-07-22    0.0044137301    0.0037809752    0.0026402498    0.0019185811   \n",
       "\n",
       "            Regression_D180  \n",
       "DATE                         \n",
       "2017-07-22     0.0014723814  "
      ]
     },
     "execution_count": 84,
     "metadata": {},
     "output_type": "execute_result"
    }
   ],
   "source": [
    "PredictionData.sample(1)"
   ]
  },
  {
   "cell_type": "code",
   "execution_count": 85,
   "metadata": {},
   "outputs": [],
   "source": [
    "PredictionRecords = MakePredictedDNUDataset(CurvePredictionRecords,DistributionCurveVal = 'Regression_D',\n",
    "                                           PredictedDNU_column = 'PredictedDAU')"
   ]
  },
  {
   "cell_type": "code",
   "execution_count": 86,
   "metadata": {},
   "outputs": [],
   "source": [
    "PredictionData = pd.DataFrame.from_dict(PredictionRecords, orient = 'index')"
   ]
  },
  {
   "cell_type": "code",
   "execution_count": 87,
   "metadata": {},
   "outputs": [
    {
     "data": {
      "text/plain": [
       "[<matplotlib.lines.Line2D at 0x12b42de10>]"
      ]
     },
     "execution_count": 87,
     "metadata": {},
     "output_type": "execute_result"
    },
    {
     "data": {
      "image/png": "[encoded data removed]",
      "text/plain": [
       "<Figure size 432x288 with 1 Axes>"
      ]
     },
     "metadata": {
      "needs_background": "light"
     },
     "output_type": "display_data"
    }
   ],
   "source": [
    "fig, ax = plt.subplots(1, 1)\n",
    "ax.plot(days_since_install,PredictionData.DAU.values[:180], lw=1, alpha=0.6, label='weibull_min pdf')\n",
    "ax.plot(days_since_install,PredictionData.PredictedDAU.values[:180], lw=1, alpha=0.6, label='WeibullPrediction pdf')"
   ]
  },
  {
   "cell_type": "code",
   "execution_count": 88,
   "metadata": {},
   "outputs": [
    {
     "data": {
      "text/html": [
       "<div>\n",
       "<style scoped>\n",
       "    .dataframe tbody tr th:only-of-type {\n",
       "        vertical-align: middle;\n",
       "    }\n",
       "\n",
       "    .dataframe tbody tr th {\n",
       "        vertical-align: top;\n",
       "    }\n",
       "\n",
       "    .dataframe thead th {\n",
       "        text-align: right;\n",
       "    }\n",
       "</style>\n",
       "<table border=\"1\" class=\"dataframe\">\n",
       "  <thead>\n",
       "    <tr style=\"text-align: right;\">\n",
       "      <th></th>\n",
       "      <th>DAU</th>\n",
       "      <th>DNU</th>\n",
       "      <th>PredictedDAU</th>\n",
       "      <th>PredictedDAU_HistoricDNUContribution</th>\n",
       "      <th>Regression_D7</th>\n",
       "      <th>D7</th>\n",
       "    </tr>\n",
       "  </thead>\n",
       "  <tbody>\n",
       "    <tr>\n",
       "      <td>count</td>\n",
       "      <td>180.0000000000</td>\n",
       "      <td>180.0000000000</td>\n",
       "      <td>180.0000000000</td>\n",
       "      <td>180.0000000000</td>\n",
       "      <td>180.0000000000</td>\n",
       "      <td>180.0000000000</td>\n",
       "    </tr>\n",
       "    <tr>\n",
       "      <td>mean</td>\n",
       "      <td>506.0833333333</td>\n",
       "      <td>271.2000000000</td>\n",
       "      <td>276.1067811767</td>\n",
       "      <td>4.9067811767</td>\n",
       "      <td>0.0062385636</td>\n",
       "      <td>0.0048554868</td>\n",
       "    </tr>\n",
       "    <tr>\n",
       "      <td>std</td>\n",
       "      <td>161.4116454093</td>\n",
       "      <td>98.8001990363</td>\n",
       "      <td>98.8209295771</td>\n",
       "      <td>1.3872593113</td>\n",
       "      <td>0.0000000000</td>\n",
       "      <td>0.0046742801</td>\n",
       "    </tr>\n",
       "    <tr>\n",
       "      <td>min</td>\n",
       "      <td>199.0000000000</td>\n",
       "      <td>95.0000000000</td>\n",
       "      <td>99.1659208776</td>\n",
       "      <td>0.0000000000</td>\n",
       "      <td>0.0062385636</td>\n",
       "      <td>0.0000000000</td>\n",
       "    </tr>\n",
       "    <tr>\n",
       "      <td>25%</td>\n",
       "      <td>405.7500000000</td>\n",
       "      <td>205.0000000000</td>\n",
       "      <td>209.2395470145</td>\n",
       "      <td>4.2083067280</td>\n",
       "      <td>0.0062385636</td>\n",
       "      <td>0.0000000000</td>\n",
       "    </tr>\n",
       "    <tr>\n",
       "      <td>50%</td>\n",
       "      <td>482.0000000000</td>\n",
       "      <td>254.5000000000</td>\n",
       "      <td>260.0779690112</td>\n",
       "      <td>4.8799611717</td>\n",
       "      <td>0.0062385636</td>\n",
       "      <td>0.0041943653</td>\n",
       "    </tr>\n",
       "    <tr>\n",
       "      <td>75%</td>\n",
       "      <td>575.7500000000</td>\n",
       "      <td>319.0000000000</td>\n",
       "      <td>323.0622652040</td>\n",
       "      <td>5.6350163307</td>\n",
       "      <td>0.0062385636</td>\n",
       "      <td>0.0070601852</td>\n",
       "    </tr>\n",
       "    <tr>\n",
       "      <td>max</td>\n",
       "      <td>1210.0000000000</td>\n",
       "      <td>732.0000000000</td>\n",
       "      <td>738.5894309742</td>\n",
       "      <td>9.1844835340</td>\n",
       "      <td>0.0062385636</td>\n",
       "      <td>0.0231660232</td>\n",
       "    </tr>\n",
       "  </tbody>\n",
       "</table>\n",
       "</div>"
      ],
      "text/plain": [
       "                   DAU             DNU    PredictedDAU  \\\n",
       "count   180.0000000000  180.0000000000  180.0000000000   \n",
       "mean    506.0833333333  271.2000000000  276.1067811767   \n",
       "std     161.4116454093   98.8001990363   98.8209295771   \n",
       "min     199.0000000000   95.0000000000   99.1659208776   \n",
       "25%     405.7500000000  205.0000000000  209.2395470145   \n",
       "50%     482.0000000000  254.5000000000  260.0779690112   \n",
       "75%     575.7500000000  319.0000000000  323.0622652040   \n",
       "max    1210.0000000000  732.0000000000  738.5894309742   \n",
       "\n",
       "       PredictedDAU_HistoricDNUContribution   Regression_D7              D7  \n",
       "count                        180.0000000000  180.0000000000  180.0000000000  \n",
       "mean                           4.9067811767    0.0062385636    0.0048554868  \n",
       "std                            1.3872593113    0.0000000000    0.0046742801  \n",
       "min                            0.0000000000    0.0062385636    0.0000000000  \n",
       "25%                            4.2083067280    0.0062385636    0.0000000000  \n",
       "50%                            4.8799611717    0.0062385636    0.0041943653  \n",
       "75%                            5.6350163307    0.0062385636    0.0070601852  \n",
       "max                            9.1844835340    0.0062385636    0.0231660232  "
      ]
     },
     "execution_count": 88,
     "metadata": {},
     "output_type": "execute_result"
    }
   ],
   "source": [
    "PredictionData[['DAU','DNU','PredictedDAU','PredictedDAU_HistoricDNUContribution','Regression_D7','D7']].describe()"
   ]
  },
  {
   "cell_type": "markdown",
   "metadata": {},
   "source": [
    "# Loss"
   ]
  },
  {
   "cell_type": "code",
   "execution_count": 89,
   "metadata": {},
   "outputs": [],
   "source": [
    "Groundtruths = PredictionData.DAU.values\n",
    "Predictions = PredictionData.PredictedDAU.values"
   ]
  },
  {
   "cell_type": "markdown",
   "metadata": {},
   "source": [
    "### RMSE"
   ]
  },
  {
   "cell_type": "code",
   "execution_count": 90,
   "metadata": {},
   "outputs": [
    {
     "data": {
      "text/plain": [
       "2159.5406340238196"
      ]
     },
     "execution_count": 90,
     "metadata": {},
     "output_type": "execute_result"
    }
   ],
   "source": [
    "BaselineDeltas = Groundtruths - Groundtruths.mean()\n",
    "SqauredBaselineDeltas = BaselineDeltas**2\n",
    "np.sqrt(SqauredBaselineDeltas.sum())"
   ]
  },
  {
   "cell_type": "code",
   "execution_count": 91,
   "metadata": {},
   "outputs": [
    {
     "data": {
      "text/plain": [
       "3245.727369610009"
      ]
     },
     "execution_count": 91,
     "metadata": {},
     "output_type": "execute_result"
    }
   ],
   "source": [
    "RegressionDeltas = Predictions - Groundtruths\n",
    "SquaredDeltas = RegressionDeltas**2\n",
    "np.sqrt(SquaredDeltas.sum())"
   ]
  },
  {
   "cell_type": "markdown",
   "metadata": {},
   "source": [
    "RMSE is lower for the baseline model but this does not take into account the high variance of the ground truth data. "
   ]
  },
  {
   "cell_type": "markdown",
   "metadata": {},
   "source": [
    "### Thoughts"
   ]
  },
  {
   "cell_type": "markdown",
   "metadata": {},
   "source": [
    "It looks like the main contribution to the predicted DAU is the DNU i.e. the weighted contribution of DNU from previous days install $DNU \\times D_{x}$  = Predict $x \\in [1,7,14,30,60,90,180]$  has very small contributions to the overall prediction value, The largest contributor to the prediction is the DNU on the current day. This because the predicted retention AND actual retention values are extremely small (see the mean Predicted D7= 0.0062385636 and mean actual D7 = 0.0048554868).\n",
    "\n",
    "Multiplying the DNU by the small retention values results in small contributions to the over all predicted DAU values.\n",
    "\n",
    "This issue could be compensated by increasing the number of days since install columns. This will compensate the small contributions by summing many of them. \n"
   ]
  },
  {
   "cell_type": "markdown",
   "metadata": {},
   "source": [
    "### Data imputation"
   ]
  },
  {
   "cell_type": "markdown",
   "metadata": {},
   "source": [
    "### Issue with data"
   ]
  },
  {
   "cell_type": "markdown",
   "metadata": {},
   "source": [
    "We only provided the columns D1,D7,D14,D30,D60,D90,D180. \n",
    "\n",
    "The graph below shows that we are missing many data points (D2,D3,D33,D178...). One approach we could use is imputing the missing data "
   ]
  },
  {
   "cell_type": "markdown",
   "metadata": {},
   "source": [
    "![title](img/DaysSinceInstall.png)"
   ]
  },
  {
   "cell_type": "markdown",
   "metadata": {},
   "source": [
    "$D_{2}$  ( 2 days after install) is currently not in the dataset. We use the following strategy impute a $D_{2}$ value"
   ]
  },
  {
   "cell_type": "markdown",
   "metadata": {},
   "source": [
    "Assuming t is the current date for we would like to impute the value $D_{2}$ . e.g. if t = 2020-01-20 then $D_{2} = D_{2020-01-22}$\n",
    "\n",
    "$D_{2}^{\\text {imputed for day t}} = [ D_{1}^{t+2days+1days} \\times 0.95 + D_{7}^{t+2days+7days} \\times 0.95^7 ... D_{180}^{t+2days+180days} \\times 0.95^{180}] \\times \\frac{1}{\\sum_{1,7,14,30,60,90,180} 0.95^i}$"
   ]
  },
  {
   "cell_type": "markdown",
   "metadata": {},
   "source": [
    "For this excercise I wont actually go impute the data but it's just one idea I could've tried to better improve the model"
   ]
  },
  {
   "cell_type": "code",
   "execution_count": null,
   "metadata": {},
   "outputs": [],
   "source": []
  }
 ],
 "metadata": {
  "kernelspec": {
   "display_name": "Python 3",
   "language": "python",
   "name": "python3"
  },
  "language_info": {
   "codemirror_mode": {
    "name": "ipython",
    "version": 3
   },
   "file_extension": ".py",
   "mimetype": "text/x-python",
   "name": "python",
   "nbconvert_exporter": "python",
   "pygments_lexer": "ipython3",
   "version": "3.6.5"
  }
 },
 "nbformat": 4,
 "nbformat_minor": 2
}
